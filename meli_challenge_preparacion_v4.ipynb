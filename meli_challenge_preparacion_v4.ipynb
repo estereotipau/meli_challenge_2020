{
 "cells": [
  {
   "cell_type": "code",
   "execution_count": 1,
   "metadata": {},
   "outputs": [],
   "source": [
    "#Import.\n",
    "import gzip\n",
    "import json\n",
    "import gc\n",
    "import math\n",
    "from collections import Counter, defaultdict\n",
    "from tqdm.notebook import tqdm\n",
    "import random\n",
    "from sklearn.model_selection import train_test_split\n",
    "from datetime import datetime\n",
    "import pandas as pd\n",
    "import numpy as np\n",
    "from itertools import product\n",
    "from itertools import chain\n",
    "from itertools import compress\n",
    "from fuzzywuzzy import fuzz \n",
    "from fuzzywuzzy import process\n",
    "\n",
    "def jl_to_list(fname):\n",
    "    output = []\n",
    "    with gzip.open(fname, 'rb') as f:\n",
    "        for line in f:\n",
    "            output.append(json.loads(line))\n",
    "    return output\n",
    "\n",
    "def cut_str(a):\n",
    "    try:\n",
    "        return a[4:]\n",
    "    except:\n",
    "        return a"
   ]
  },
  {
   "cell_type": "code",
   "execution_count": 8,
   "metadata": {},
   "outputs": [],
   "source": [
    "#Funciones.\n",
    "def dominios_visitados(visits):\n",
    "    domains = Counter()\n",
    "    for item in visits:\n",
    "        domain = metadata[item]['domain_id']\n",
    "        domains[domain] += 1\n",
    "    return domains\n",
    "\n",
    "def productos_visitados(visits):\n",
    "    productos = Counter()\n",
    "    for item in visits:\n",
    "        producto = metadata[item]['product_id']\n",
    "        if producto:\n",
    "            productos[producto] += 1\n",
    "    return productos\n",
    "\n",
    "def categorias_visitadas(visits):\n",
    "    categorias = Counter()\n",
    "    for item in visits:\n",
    "        categoria = metadata[item]['category_id']\n",
    "        if categoria:\n",
    "            categorias[categoria] += 1\n",
    "    return categorias\n",
    "\n",
    "def cprecios_visitados(visits):\n",
    "    cprecios = Counter()\n",
    "    for item in visits:\n",
    "        cprecio = int(metadata[item]['price_cluster'])\n",
    "        if cprecio:\n",
    "            cprecios[cprecio] += 1\n",
    "    return cprecios\n",
    "\n",
    "def top_items(feature, m, k=10):\n",
    "    vector = {'d': ventas_x_dominio,\n",
    "          'p': ventas_x_producto,\n",
    "          'c': ventas_x_categoria,\n",
    "          'r': ventas_x_cluster_precio}[m]\n",
    "    top = vector[feature]\n",
    "    top = Counter(top)\n",
    "    top = top.most_common(k)\n",
    "    return [x[0] for x in top]\n",
    "\n",
    "def top_items2(feature, m, k=10):\n",
    "    vector = {'d': visitas_x_dominio,\n",
    "          'p': visitas_x_producto,\n",
    "          'c': visitas_x_categoria,\n",
    "          'r': visitas_x_cluster_precio}[m]\n",
    "    top = vector[feature]\n",
    "    top = Counter(top)\n",
    "    top = top.most_common(k)\n",
    "    return [x[0] for x in top]\n",
    "\n",
    "def last_viewed(row, viewed, k=10, h=1):\n",
    "    a = []\n",
    "    for i in sorted([ev for ev in row['user_history'] if ev['event_type']=='view'], key = lambda x: x['event_timestamp'], reverse = True):\n",
    "        if i['event_info'] not in a:\n",
    "            a.append(i['event_info'])\n",
    "        if len(a) == k:\n",
    "            break\n",
    "    j = k - len(a)\n",
    "    a.extend([-1] * j)\n",
    "    return a\n",
    "\n",
    "def most_viewed(row, viewed, k=10, h=1):\n",
    "    m_viewed = Counter()\n",
    "    if len(viewed)==0:\n",
    "        return [-1] * k\n",
    "    for item in viewed:\n",
    "        m_viewed[item] += 1\n",
    "    j = min(len(m_viewed), k)\n",
    "    a = [x[0] for x in m_viewed.most_common(j)]\n",
    "    a.extend([-1] * (k - j))\n",
    "    return a\n",
    "\n",
    "def top_by_best_domain(row, viewed, k=10, h=1):\n",
    "    if len(viewed)==0:\n",
    "        return [-1] * k\n",
    "    domain = dominios_visitados(viewed)\n",
    "    if len(domain) >= h:\n",
    "        domain = domain.most_common(h)[0][0]\n",
    "        t_items = top_items(domain, k=k, m='d')\n",
    "        if len(t_items) < k:\n",
    "            t_items.extend([-1] * (k - len(t_items)))\n",
    "        return t_items\n",
    "    else:\n",
    "        return [-1] * k\n",
    "\n",
    "def top_by_best_product(row, viewed, k=10, h=1):\n",
    "    if len(viewed)==0:\n",
    "        return [-1] * k\n",
    "    producto = productos_visitados(viewed)\n",
    "    if len(producto) >= h:\n",
    "        producto = producto.most_common(h)[0][0]\n",
    "        t_items = top_items(producto, k=k, m='p')\n",
    "        if len(t_items) < k:\n",
    "            t_items.extend([-1] * (k - len(t_items)))\n",
    "        return t_items\n",
    "    else:\n",
    "        return [-1] * k\n",
    "    \n",
    "def top_by_best_category(row, viewed, k=10, h=1):\n",
    "    if len(viewed)==0:\n",
    "        return [-1] * k\n",
    "    categoria = categorias_visitadas(viewed)\n",
    "    if len(categoria) >= h:\n",
    "        categoria = categoria.most_common(h)[0][0]\n",
    "        t_items = top_items(categoria, k=k, m='c')\n",
    "        if len(t_items) < k:\n",
    "            t_items.extend([-1] * (k - len(t_items)))\n",
    "        return t_items\n",
    "    else:\n",
    "        return [-1] * k\n",
    "\n",
    "def top_by_cprice(row, viewed, k=10, h=1):\n",
    "    if len(viewed)==0:\n",
    "        return [-1] * k\n",
    "    cprecio = cprecios_visitados(viewed)\n",
    "    if len(cprecio) >= h:\n",
    "        cprecio = cprecio.most_common(h)[0][0]\n",
    "        t_items = top_items(cprecio, k=k, m='r')\n",
    "        if len(t_items) < k:\n",
    "            t_items.extend([-1] * (k - len(t_items)))\n",
    "        return t_items\n",
    "    else:\n",
    "        return [-1] * k\n",
    "\n",
    "def top_by_best_domain2(row, viewed, k=10, h=1):\n",
    "    if len(viewed)==0:\n",
    "        return [-1] * k\n",
    "    domain = dominios_visitados(viewed)\n",
    "    if len(domain) >= h:\n",
    "        domain = domain.most_common(h)[0][0]\n",
    "        t_items = top_items2(domain, k=k, m='d')\n",
    "        if len(t_items) < k:\n",
    "            t_items.extend([-1] * (k - len(t_items)))\n",
    "        return t_items\n",
    "    else:\n",
    "        return [-1] * k\n",
    "\n",
    "def top_by_best_product2(row, viewed, k=10, h=1):\n",
    "    if len(viewed)==0:\n",
    "        return [-1] * k\n",
    "    producto = productos_visitados(viewed)\n",
    "    if len(producto) >= h:\n",
    "        producto = producto.most_common(h)[0][0]\n",
    "        t_items = top_items2(producto, k=k, m='p')\n",
    "        if len(t_items) < k:\n",
    "            t_items.extend([-1] * (k - len(t_items)))\n",
    "        return t_items\n",
    "    else:\n",
    "        return [-1] * k\n",
    "    \n",
    "def top_by_best_category2(row, viewed, k=10, h=1):\n",
    "    if len(viewed)==0:\n",
    "        return [-1] * k\n",
    "    categoria = categorias_visitadas(viewed)\n",
    "    if len(categoria) >= h:\n",
    "        categoria = categoria.most_common(h)[0][0]\n",
    "        t_items = top_items2(categoria, k=k, m='c')\n",
    "        if len(t_items) < k:\n",
    "            t_items.extend([-1] * (k - len(t_items)))\n",
    "        return t_items\n",
    "    else:\n",
    "        return [-1] * k\n",
    "\n",
    "def top_by_cprice2(row, viewed, k=10, h=1):\n",
    "    if len(viewed)==0:\n",
    "        return [-1] * k\n",
    "    cprecio = cprecios_visitados(viewed)\n",
    "    if len(cprecio) >= h:\n",
    "        cprecio = cprecio.most_common(h)[0][0]\n",
    "        t_items = top_items2(cprecio, k=k, m='r')\n",
    "        if len(t_items) < k:\n",
    "            t_items.extend([-1] * (k - len(t_items)))\n",
    "        return t_items\n",
    "    else:\n",
    "        return [-1] * k\n",
    "\n",
    "def top_site(row, viewed, k=10, h=1):\n",
    "    return [x[0] for x in ventas.most_common(k)]\n",
    "    \n",
    "def get_item_scores(row, viewed, k=10):\n",
    "    item_scores = defaultdict(int)\n",
    "    for ev in row['user_history']:\n",
    "        if ev['event_type'] == 'view':\n",
    "            for j, v in vistas_compras[int(ev['event_info'])].items():\n",
    "                item_scores[j] += v\n",
    "    return [x[0] for x in Counter(item_scores).most_common(k)]\n",
    "\n",
    "def get_item_bought(row):\n",
    "    if 'item_bought' in row:\n",
    "        return row['item_bought']\n",
    "    else:\n",
    "        return 0\n",
    "\n",
    "def ib_same_as_liv(ib, liv):\n",
    "    return ib==liv\n",
    "\n",
    "def ib_in_viewed(row, viewed):\n",
    "    ib = get_item_bought(row)\n",
    "    return ib in viewed\n",
    "\n",
    "def history_length(row):\n",
    "    return len(row['user_history'])\n",
    "\n",
    "def views(row):\n",
    "    return ([ev['event_info'] for ev in row['user_history'] if ev['event_type']=='view'])\n",
    "\n",
    "def searchs(row):\n",
    "    return ([ev['event_info'] for ev in row['user_history'] if ev['event_type']=='search'])\n",
    "\n",
    "def ib_same_as_miv(ib, miv):\n",
    "    return ib==miv\n",
    "\n",
    "def make_target_list(rows_train, extract_function, k=10):\n",
    "    target = []\n",
    "    for row in tqdm(rows_train):\n",
    "        target.append([extract_function(row)] * k)\n",
    "    return target\n",
    "\n",
    "def make_features_dict_list(rows_train, features_def, aux_function, k=10):\n",
    "    features = []\n",
    "    for row in tqdm(rows_train):\n",
    "        aux_data = aux_function(row)\n",
    "        row_features = {}\n",
    "        for f in features_def:\n",
    "            row_features[f] = features_def[f](row, aux_data, k=k)\n",
    "        features.append(row_features)\n",
    "    return features\n",
    "    \n",
    "def list_to_np_array(collection):\n",
    "    if str(type(collection[0])).replace(\"'\",\"\") == '<class list>':\n",
    "        for i, j in tqdm(enumerate(collection)):\n",
    "            collection[i] = np.array(j)\n",
    "    elif str(type(collection[0])).replace(\"'\",\"\") == '<class dict>':\n",
    "        for i, j in tqdm(enumerate(collection)):\n",
    "            for h in collection[i]:\n",
    "                collection[i][h] = np.array(collection[i][h])\n",
    "    return collection\n",
    "\n",
    "def searchs_to_np(searchs):\n",
    "    return np.array([busquedas_values[x] for x in searchs])\n",
    "\n",
    "def add_features_to_list(new_features, new_feature_data, old_feature_data):\n",
    "    if len(new_feature_data) == len(old_feature_data):\n",
    "        for row in tqdm(zip(old_feature_data, new_feature_data)):\n",
    "            for key in new_features:\n",
    "                row[0][key] = row[1][key]\n",
    "    return old_feature_data\n",
    "\n",
    "def load_item_data(all_itms = False):\n",
    "    ITEM_DATA = pd.read_csv('item_data.csv', sep=';')\n",
    "    fields = ['item_id', 'domain_id', 'product_id', 'category_id', 'price', 'price_cluster', 'condition', 'mexico']\n",
    "    m = {}\n",
    "    for column in tqdm(fields):\n",
    "         m[column] = list(ITEM_DATA[column])\n",
    "    metadata = {}\n",
    "    for i, j in tqdm(enumerate(m['item_id'])):\n",
    "        metadata[j] = {}\n",
    "        for column in fields: \n",
    "            metadata[j].update({column: m[column][i]})\n",
    "    if all_itms:\n",
    "        all_items = list(metadata)\n",
    "    else:\n",
    "        all_items = []\n",
    "    return metadata, all_items\n",
    "\n",
    "def str_to_int(a):\n",
    "    return int(a)"
   ]
  },
  {
   "cell_type": "code",
   "execution_count": 3,
   "metadata": {},
   "outputs": [
    {
     "data": {
      "application/vnd.jupyter.widget-view+json": {
       "model_id": "dc489ccd75894c718f8a1faf8f91bedb",
       "version_major": 2,
       "version_minor": 0
      },
      "text/plain": [
       "HBox(children=(FloatProgress(value=0.0, max=8.0), HTML(value='')))"
      ]
     },
     "metadata": {},
     "output_type": "display_data"
    },
    {
     "name": "stdout",
     "output_type": "stream",
     "text": [
      "\n"
     ]
    },
    {
     "data": {
      "application/vnd.jupyter.widget-view+json": {
       "model_id": "7cfaee836d2c450c91b47d089c2445d6",
       "version_major": 2,
       "version_minor": 0
      },
      "text/plain": [
       "HBox(children=(FloatProgress(value=1.0, bar_style='info', max=1.0), HTML(value='')))"
      ]
     },
     "metadata": {},
     "output_type": "display_data"
    },
    {
     "name": "stdout",
     "output_type": "stream",
     "text": [
      "\n"
     ]
    }
   ],
   "source": [
    "#Loading data.\n",
    "rows_train = jl_to_list('train_dataset.jl.gz')\n",
    "rows_test = jl_to_list('test_dataset.jl.gz')\n",
    "metadata, _ = load_item_data()"
   ]
  },
  {
   "cell_type": "code",
   "execution_count": 4,
   "metadata": {},
   "outputs": [
    {
     "data": {
      "application/vnd.jupyter.widget-view+json": {
       "model_id": "d9e5a91c9d464319901b2c2810674d18",
       "version_major": 2,
       "version_minor": 0
      },
      "text/plain": [
       "HBox(children=(FloatProgress(value=0.0, max=413163.0), HTML(value='')))"
      ]
     },
     "metadata": {},
     "output_type": "display_data"
    },
    {
     "name": "stdout",
     "output_type": "stream",
     "text": [
      "\n"
     ]
    }
   ],
   "source": [
    "#Ventas site.\n",
    "ventas = Counter()\n",
    "for row in tqdm(rows_train):\n",
    "    ventas[row['item_bought']] += 1"
   ]
  },
  {
   "cell_type": "code",
   "execution_count": 5,
   "metadata": {},
   "outputs": [
    {
     "data": {
      "application/vnd.jupyter.widget-view+json": {
       "model_id": "423c2671674a4a06acbe3cf60994aebe",
       "version_major": 2,
       "version_minor": 0
      },
      "text/plain": [
       "HBox(children=(FloatProgress(value=0.0, max=64928.0), HTML(value='')))"
      ]
     },
     "metadata": {},
     "output_type": "display_data"
    },
    {
     "name": "stdout",
     "output_type": "stream",
     "text": [
      "\n"
     ]
    }
   ],
   "source": [
    "#Ventas.\n",
    "ventas_x_dominio = defaultdict(lambda: defaultdict(int))\n",
    "ventas_x_producto = defaultdict(lambda: defaultdict(int))\n",
    "ventas_x_categoria = defaultdict(lambda: defaultdict(int))\n",
    "ventas_x_cluster_precio = defaultdict(lambda: defaultdict(int))\n",
    "\n",
    "for item in tqdm(ventas):\n",
    "    domain = metadata[item]['domain_id']\n",
    "    producto = metadata[item]['product_id']\n",
    "    categoria = metadata[item]['category_id']\n",
    "    cprecio = int(metadata[item]['price_cluster'])\n",
    "    ventas_x_dominio[domain][item] += ventas[item]\n",
    "    if producto:\n",
    "        ventas_x_producto[producto][item] += ventas[item]\n",
    "    if categoria:\n",
    "        ventas_x_categoria[categoria][item] += ventas[item]\n",
    "    ventas_x_cluster_precio[cprecio][item] += ventas[item]"
   ]
  },
  {
   "cell_type": "code",
   "execution_count": 6,
   "metadata": {},
   "outputs": [
    {
     "data": {
      "application/vnd.jupyter.widget-view+json": {
       "model_id": "5b330747b1e04c9ead7a5a09dc6a0482",
       "version_major": 2,
       "version_minor": 0
      },
      "text/plain": [
       "HBox(children=(FloatProgress(value=0.0, max=413163.0), HTML(value='')))"
      ]
     },
     "metadata": {},
     "output_type": "display_data"
    },
    {
     "name": "stdout",
     "output_type": "stream",
     "text": [
      "\n"
     ]
    }
   ],
   "source": [
    "#Visitas.\n",
    "visitas_x_dominio = defaultdict(lambda: defaultdict(int))\n",
    "visitas_x_producto = defaultdict(lambda: defaultdict(int))\n",
    "visitas_x_categoria = defaultdict(lambda: defaultdict(int))\n",
    "visitas_x_cluster_precio = defaultdict(lambda: defaultdict(int))\n",
    "\n",
    "for row in tqdm(rows_train):\n",
    "    viewed = views(row)\n",
    "    for item in viewed:\n",
    "        domain = metadata[item]['domain_id']\n",
    "        producto = metadata[item]['product_id']\n",
    "        categoria = metadata[item]['category_id']\n",
    "        cprecio = int(metadata[item]['price_cluster'])\n",
    "        visitas_x_dominio[domain][item] += 1\n",
    "        if producto:\n",
    "            visitas_x_producto[producto][item] += 1\n",
    "        if categoria:\n",
    "            visitas_x_categoria[categoria][item] += 1\n",
    "        visitas_x_cluster_precio[cprecio][item] += 1"
   ]
  },
  {
   "cell_type": "code",
   "execution_count": 12,
   "metadata": {},
   "outputs": [
    {
     "data": {
      "application/vnd.jupyter.widget-view+json": {
       "model_id": "87d8d8aca3fa4e6f9e682cb40a55bb87",
       "version_major": 2,
       "version_minor": 0
      },
      "text/plain": [
       "HBox(children=(FloatProgress(value=0.0, max=413163.0), HTML(value='')))"
      ]
     },
     "metadata": {},
     "output_type": "display_data"
    },
    {
     "name": "stdout",
     "output_type": "stream",
     "text": [
      "\n"
     ]
    },
    {
     "data": {
      "application/vnd.jupyter.widget-view+json": {
       "model_id": "aa35090814774757abdd3149f553d1c2",
       "version_major": 2,
       "version_minor": 0
      },
      "text/plain": [
       "HBox(children=(FloatProgress(value=0.0, max=177070.0), HTML(value='')))"
      ]
     },
     "metadata": {},
     "output_type": "display_data"
    },
    {
     "name": "stdout",
     "output_type": "stream",
     "text": [
      "\n"
     ]
    }
   ],
   "source": [
    "#Colecciones.\n",
    "#ib = make_target_list(rows_train, get_item_bought, k=10)\n",
    "\n",
    "features_def = {'liv': last_viewed,\n",
    "            'miv': most_viewed,\n",
    "            'tbd': top_by_best_domain,\n",
    "            'tbd2': top_by_best_domain2,\n",
    "            'tbp': top_by_best_product,\n",
    "            'tbp2': top_by_best_product2,\n",
    "            'tbc': top_by_best_category,\n",
    "            'tbc2': top_by_best_category2}\n",
    "\n",
    "dim = make_features_dict_list(rows_train, features_def, views)\n",
    "dim_pred = make_features_dict_list(rows_test, features_def, views)"
   ]
  },
  {
   "cell_type": "code",
   "execution_count": 9,
   "metadata": {},
   "outputs": [
    {
     "data": {
      "application/vnd.jupyter.widget-view+json": {
       "model_id": "badd47f7e457476cb7f1fddc340d296d",
       "version_major": 2,
       "version_minor": 0
      },
      "text/plain": [
       "HBox(children=(FloatProgress(value=0.0, max=413163.0), HTML(value='')))"
      ]
     },
     "metadata": {},
     "output_type": "display_data"
    },
    {
     "name": "stdout",
     "output_type": "stream",
     "text": [
      "\n"
     ]
    },
    {
     "data": {
      "application/vnd.jupyter.widget-view+json": {
       "model_id": "eab1b37f0424407f9de36bb486e7c2bd",
       "version_major": 2,
       "version_minor": 0
      },
      "text/plain": [
       "HBox(children=(FloatProgress(value=0.0, max=177070.0), HTML(value='')))"
      ]
     },
     "metadata": {},
     "output_type": "display_data"
    },
    {
     "name": "stdout",
     "output_type": "stream",
     "text": [
      "\n"
     ]
    }
   ],
   "source": [
    "#Colecciones.\n",
    "#ib = make_target_list(rows_train, get_item_bought, k=10)\n",
    "\n",
    "features_def = {'tcp': top_by_cprice,\n",
    "                'tcp2': top_by_cprice2}\n",
    "\n",
    "dim = make_features_dict_list(rows_train, features_def, views)\n",
    "dim_pred = make_features_dict_list(rows_test, features_def, views)"
   ]
  },
  {
   "cell_type": "code",
   "execution_count": 13,
   "metadata": {},
   "outputs": [],
   "source": [
    "#with open('train_dataset_ib.json', 'w') as fname:\n",
    "#    json.dump(ib, fname, indent=4)\n",
    "with open('train_dataset_dim_v4.json', 'w') as fname:\n",
    "    json.dump(dim, fname, indent=4)\n",
    "with open('train_dataset_dim_pred_v4.json', 'w') as fname:\n",
    "    json.dump(dim_pred, fname, indent=4)"
   ]
  },
  {
   "cell_type": "code",
   "execution_count": 10,
   "metadata": {},
   "outputs": [],
   "source": [
    "with open('train_dataset_dim_tcp.json', 'w') as fname:\n",
    "    json.dump(dim, fname, indent=4)\n",
    "with open('train_dataset_dim_pred_tcp.json', 'w') as fname:\n",
    "    json.dump(dim_pred, fname, indent=4)"
   ]
  }
 ],
 "metadata": {
  "kernelspec": {
   "display_name": "Python 3",
   "language": "python",
   "name": "python3"
  },
  "language_info": {
   "codemirror_mode": {
    "name": "ipython",
    "version": 3
   },
   "file_extension": ".py",
   "mimetype": "text/x-python",
   "name": "python",
   "nbconvert_exporter": "python",
   "pygments_lexer": "ipython3",
   "version": "3.6.5"
  }
 },
 "nbformat": 4,
 "nbformat_minor": 2
}
