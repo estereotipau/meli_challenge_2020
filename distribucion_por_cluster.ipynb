{
 "cells": [
  {
   "cell_type": "code",
   "execution_count": 1,
   "metadata": {},
   "outputs": [
    {
     "data": {
      "application/vnd.jupyter.widget-view+json": {
       "model_id": "f22effed8f49486db1c492441110a775",
       "version_major": 2,
       "version_minor": 0
      },
      "text/plain": [
       "HBox(children=(FloatProgress(value=0.0, max=413163.0), HTML(value='')))"
      ]
     },
     "metadata": {},
     "output_type": "display_data"
    },
    {
     "name": "stdout",
     "output_type": "stream",
     "text": [
      "\n"
     ]
    },
    {
     "data": {
      "application/vnd.jupyter.widget-view+json": {
       "model_id": "c511a6de2fc44f8e9049ae59ea92df8b",
       "version_major": 2,
       "version_minor": 0
      },
      "text/plain": [
       "HBox(children=(FloatProgress(value=0.0, max=177070.0), HTML(value='')))"
      ]
     },
     "metadata": {},
     "output_type": "display_data"
    },
    {
     "name": "stdout",
     "output_type": "stream",
     "text": [
      "\n"
     ]
    }
   ],
   "source": [
    "import gzip\n",
    "import json\n",
    "import pandas as pd\n",
    "from simple_cluster_EG import data_for_clusters\n",
    "\n",
    "def jl_to_list(fname):\n",
    "    output = []\n",
    "    with gzip.open(fname, 'rb') as f:\n",
    "        for line in f:\n",
    "            output.append(json.loads(line))\n",
    "    return output\n",
    "\n",
    "rows_train = jl_to_list('train_dataset.jl.gz')\n",
    "rows_test = jl_to_list('test_dataset.jl.gz')\n",
    "df_train = data_for_clusters(rows_train)\n",
    "df_test = data_for_clusters(rows_test)"
   ]
  },
  {
   "cell_type": "code",
   "execution_count": 3,
   "metadata": {},
   "outputs": [
    {
     "name": "stdout",
     "output_type": "stream",
     "text": [
      "0.0    151553\n",
      "3.0    123995\n",
      "2.0    112965\n",
      "7.0     89083\n",
      "1.0     62425\n",
      "4.0     30339\n",
      "6.0     14161\n",
      "5.0      5712\n",
      "Name: cluster, dtype: int64\n",
      "7.0    106276\n",
      "3.0     87066\n",
      "5.0     79242\n",
      "1.0     62229\n",
      "0.0     43240\n",
      "4.0     21443\n",
      "2.0      9561\n",
      "6.0      4106\n",
      "Name: cluster, dtype: int64\n",
      "0.0    44357\n",
      "3.0    36651\n",
      "1.0    30378\n",
      "4.0    26816\n",
      "2.0    23226\n",
      "6.0     8480\n",
      "7.0     5229\n",
      "5.0     1933\n",
      "Name: cluster, dtype: int64\n"
     ]
    }
   ],
   "source": [
    "#Clusters.\n",
    "from simple_cluster_EG import data_for_clusters, clustering_predict, meli_clusters\n",
    "n_clusters = 8\n",
    "kMeans = meli_clusters(n_clusters)\n",
    "df_train_c = clustering_predict(df_train, kMeans, k = n_clusters)\n",
    "df_test_c = clustering_predict(df_test, kMeans, k = n_clusters)"
   ]
  }
 ],
 "metadata": {
  "kernelspec": {
   "display_name": "Python 3",
   "language": "python",
   "name": "python3"
  },
  "language_info": {
   "codemirror_mode": {
    "name": "ipython",
    "version": 3
   },
   "file_extension": ".py",
   "mimetype": "text/x-python",
   "name": "python",
   "nbconvert_exporter": "python",
   "pygments_lexer": "ipython3",
   "version": "3.7.4"
  }
 },
 "nbformat": 4,
 "nbformat_minor": 4
}
