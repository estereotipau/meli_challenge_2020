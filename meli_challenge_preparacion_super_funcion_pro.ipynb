{
 "cells": [
  {
   "cell_type": "code",
   "execution_count": 1,
   "metadata": {},
   "outputs": [],
   "source": [
    "#Import.\n",
    "import pandas as pd\n",
    "import numpy as np\n",
    "from ast import literal_eval\n",
    "from tqdm.notebook import tqdm\n",
    "from numba import njit, guvectorize, vectorize\n",
    "from numpy import float64, bool, int32\n",
    "from itertools import product"
   ]
  },
  {
   "cell_type": "code",
   "execution_count": 2,
   "metadata": {},
   "outputs": [],
   "source": [
    "#Funciones.\n",
    "def load_ib():\n",
    "    name = 'ib'\n",
    "    V = pd.read_csv(name+'.csv', sep=';')\n",
    "    return np.array(V)"
   ]
  },
  {
   "cell_type": "code",
   "execution_count": 3,
   "metadata": {},
   "outputs": [],
   "source": [
    "#Loading data.\n",
    "ib = load_ib()\n",
    "IB = pd.DataFrame(ib, columns=['ib'])\n",
    "IB['constante'] = 1\n",
    "DFF = pd.read_csv('dff.csv', sep=';')\n",
    "DFF_PRED = pd.read_csv('dff_pred.csv', sep=';')\n",
    "ITEM_DATA = pd.read_csv('item_data.csv', sep=';')\n",
    "ITEM_DATA.loc[ITEM_DATA['product_id'] == 0, 'product_id'] = -1\n",
    "ITEM_DATA['domain_code'], domain_uniques = pd.factorize(ITEM_DATA['domain_id'], sort=True)\n",
    "ITEM_DATA['category_code'], category_uniques = pd.factorize(ITEM_DATA['category_id'], sort=True)"
   ]
  },
  {
   "cell_type": "code",
   "execution_count": 4,
   "metadata": {},
   "outputs": [],
   "source": [
    "#Corrección temporaria.\n",
    "DFF = DFF.rename(columns={'domain_id': 'domain_code', 'product_code': 'product_id'})\n",
    "DFF_PRED = DFF_PRED.rename(columns={'domain_id': 'domain_code', 'product_code': 'product_id'})"
   ]
  },
  {
   "cell_type": "code",
   "execution_count": 5,
   "metadata": {},
   "outputs": [],
   "source": [
    "target = np.array(IB.groupby('ib').sum().sort_values('constante', ascending=False).index)\n",
    "for tipo in ['domain_code', 'product_id', 'category_code']:\n",
    "    DFF[tipo] = DFF[tipo].apply(lambda x: np.array(literal_eval(x)))\n",
    "    DFF_PRED[tipo] = DFF_PRED[tipo].apply(lambda x: np.array(literal_eval(x)))\n",
    "DFF.loc[DFF['sd_p'] == 0, 'sd_p'] = DFF['median_p'] * 0.1\n",
    "DFF_PRED.loc[DFF_PRED['sd_p'] == 0, 'sd_p'] = DFF_PRED['median_p'] * 0.1"
   ]
  },
  {
   "cell_type": "code",
   "execution_count": 6,
   "metadata": {},
   "outputs": [],
   "source": [
    "A = np.array(DFF['median_p'])\n",
    "B = np.array(DFF['product_id'])\n",
    "D = np.array(DFF['sd_p'])"
   ]
  },
  {
   "cell_type": "code",
   "execution_count": 7,
   "metadata": {},
   "outputs": [],
   "source": [
    "a = np.array(ITEM_DATA['price'])\n",
    "b = np.array(ITEM_DATA['product_id'])\n",
    "c = np.array(ITEM_DATA['item_id'])"
   ]
  },
  {
   "cell_type": "code",
   "execution_count": 10,
   "metadata": {},
   "outputs": [],
   "source": [
    "#Reducir a los que tuvieron ventas.\n",
    "a = a[np.isin(c, target, assume_unique=True)]\n",
    "b = b[np.isin(c, target, assume_unique=True)]\n",
    "c = c[np.isin(c, target, assume_unique=True)]"
   ]
  },
  {
   "cell_type": "code",
   "execution_count": 12,
   "metadata": {
    "scrolled": true
   },
   "outputs": [],
   "source": [
    "def super_funcion(target, a, b, c, A, B, D, g1, g2, k=10):\n",
    "    return target[np.isin(target, c[(np.isin(b, B[:g1], assume_unique=True)) & (a>=A-D*g2) & (a<=A+D*g2)], assume_unique=True)][:k]"
   ]
  },
  {
   "cell_type": "code",
   "execution_count": 13,
   "metadata": {
    "scrolled": true
   },
   "outputs": [
    {
     "data": {
      "application/vnd.jupyter.widget-view+json": {
       "model_id": "3122a648fa7742fe929d403f47791309",
       "version_major": 2,
       "version_minor": 0
      },
      "text/plain": [
       "HBox(children=(HTML(value=''), FloatProgress(value=0.0, max=413163.0), HTML(value='')))"
      ]
     },
     "metadata": {},
     "output_type": "display_data"
    },
    {
     "name": "stdout",
     "output_type": "stream",
     "text": [
      "\n"
     ]
    },
    {
     "data": {
      "application/vnd.jupyter.widget-view+json": {
       "model_id": "565faaa61310453ab26766724dae474e",
       "version_major": 2,
       "version_minor": 0
      },
      "text/plain": [
       "HBox(children=(HTML(value=''), FloatProgress(value=0.0, max=413163.0), HTML(value='')))"
      ]
     },
     "metadata": {},
     "output_type": "display_data"
    },
    {
     "name": "stdout",
     "output_type": "stream",
     "text": [
      "\n"
     ]
    },
    {
     "data": {
      "application/vnd.jupyter.widget-view+json": {
       "model_id": "6af65356618b409ea0f49afb39e4497a",
       "version_major": 2,
       "version_minor": 0
      },
      "text/plain": [
       "HBox(children=(HTML(value=''), FloatProgress(value=0.0, max=413163.0), HTML(value='')))"
      ]
     },
     "metadata": {},
     "output_type": "display_data"
    },
    {
     "name": "stdout",
     "output_type": "stream",
     "text": [
      "\n"
     ]
    },
    {
     "data": {
      "application/vnd.jupyter.widget-view+json": {
       "model_id": "8411d937c4a740688d390b8ba444b544",
       "version_major": 2,
       "version_minor": 0
      },
      "text/plain": [
       "HBox(children=(HTML(value=''), FloatProgress(value=0.0, max=413163.0), HTML(value='')))"
      ]
     },
     "metadata": {},
     "output_type": "display_data"
    },
    {
     "name": "stdout",
     "output_type": "stream",
     "text": [
      "\n"
     ]
    },
    {
     "data": {
      "application/vnd.jupyter.widget-view+json": {
       "model_id": "b3fb66a9a50b4744b5131199260a1f9a",
       "version_major": 2,
       "version_minor": 0
      },
      "text/plain": [
       "HBox(children=(HTML(value=''), FloatProgress(value=0.0, max=413163.0), HTML(value='')))"
      ]
     },
     "metadata": {},
     "output_type": "display_data"
    },
    {
     "name": "stdout",
     "output_type": "stream",
     "text": [
      "\n"
     ]
    },
    {
     "data": {
      "application/vnd.jupyter.widget-view+json": {
       "model_id": "b1c9d3b9192a4ea6a0eecfd47748d7f4",
       "version_major": 2,
       "version_minor": 0
      },
      "text/plain": [
       "HBox(children=(HTML(value=''), FloatProgress(value=0.0, max=413163.0), HTML(value='')))"
      ]
     },
     "metadata": {},
     "output_type": "display_data"
    },
    {
     "name": "stdout",
     "output_type": "stream",
     "text": [
      "\n"
     ]
    },
    {
     "data": {
      "application/vnd.jupyter.widget-view+json": {
       "model_id": "468b955891cf42d2aaf0729c728bb351",
       "version_major": 2,
       "version_minor": 0
      },
      "text/plain": [
       "HBox(children=(HTML(value=''), FloatProgress(value=0.0, max=413163.0), HTML(value='')))"
      ]
     },
     "metadata": {},
     "output_type": "display_data"
    },
    {
     "name": "stdout",
     "output_type": "stream",
     "text": [
      "\n"
     ]
    },
    {
     "data": {
      "application/vnd.jupyter.widget-view+json": {
       "model_id": "c15b2c2cc3704c2c903e8af80034839d",
       "version_major": 2,
       "version_minor": 0
      },
      "text/plain": [
       "HBox(children=(HTML(value=''), FloatProgress(value=0.0, max=413163.0), HTML(value='')))"
      ]
     },
     "metadata": {},
     "output_type": "display_data"
    },
    {
     "name": "stdout",
     "output_type": "stream",
     "text": [
      "\n"
     ]
    },
    {
     "data": {
      "application/vnd.jupyter.widget-view+json": {
       "model_id": "82f9c4ff67304d45a3f41cff30672aff",
       "version_major": 2,
       "version_minor": 0
      },
      "text/plain": [
       "HBox(children=(HTML(value=''), FloatProgress(value=0.0, max=413163.0), HTML(value='')))"
      ]
     },
     "metadata": {},
     "output_type": "display_data"
    },
    {
     "name": "stdout",
     "output_type": "stream",
     "text": [
      "\n",
      "Wall time: 6h 23min 54s\n"
     ]
    }
   ],
   "source": [
    "%%time\n",
    "PRED = {}\n",
    "pred = {}\n",
    "K = 10\n",
    "\n",
    "for l in product(range(1,4), range(1,4)):\n",
    "    name = 'dim_spro_{}{}'.format(l[0],l[1])\n",
    "    pred[name] = np.full([A.size, K], -1)\n",
    "    for i in tqdm(range(A.size)):\n",
    "        r = super_funcion(target, a, b, c, A[i], B[i], D[i], l[0], l[1], k=K)\n",
    "        for j in range(np.min([r.size, K])):\n",
    "            pred[name][i, j] = r[j]\n",
    "        if i % 50000 == 0:\n",
    "            PRED[name] = pd.DataFrame(pred[name], columns=['pred'+str(i) for i in range(K)])\n",
    "            PRED[name].to_csv('{}_r{}.csv'.format(name, i, index=False, sep=';'))\n",
    "\n",
    "    PRED[name] = pd.DataFrame(pred[name], columns=['pred'+str(i) for i in range(K)])\n",
    "    PRED[name].to_csv('{}_r{}.csv'.format(name, i), index=False, sep=';')"
   ]
  },
  {
   "cell_type": "code",
   "execution_count": 122,
   "metadata": {},
   "outputs": [],
   "source": [
    "@vectorize(['boolean(float64, float64, float64)'], target='parallel', nopython=True)\n",
    "def g(a, alfa, delta):\n",
    "    return a >= alfa - delta and a <= alfa + delta"
   ]
  },
  {
   "cell_type": "code",
   "execution_count": 32,
   "metadata": {},
   "outputs": [
    {
     "data": {
      "text/html": [
       "<div>\n",
       "<style scoped>\n",
       "    .dataframe tbody tr th:only-of-type {\n",
       "        vertical-align: middle;\n",
       "    }\n",
       "\n",
       "    .dataframe tbody tr th {\n",
       "        vertical-align: top;\n",
       "    }\n",
       "\n",
       "    .dataframe thead th {\n",
       "        text-align: right;\n",
       "    }\n",
       "</style>\n",
       "<table border=\"1\" class=\"dataframe\">\n",
       "  <thead>\n",
       "    <tr style=\"text-align: right;\">\n",
       "      <th></th>\n",
       "      <th>0</th>\n",
       "      <th>1</th>\n",
       "      <th>2</th>\n",
       "      <th>3</th>\n",
       "      <th>4</th>\n",
       "      <th>5</th>\n",
       "      <th>6</th>\n",
       "      <th>7</th>\n",
       "      <th>8</th>\n",
       "      <th>9</th>\n",
       "    </tr>\n",
       "  </thead>\n",
       "  <tbody>\n",
       "    <tr>\n",
       "      <td>0</td>\n",
       "      <td>1748830</td>\n",
       "      <td>1154325</td>\n",
       "      <td>652718</td>\n",
       "      <td>400496</td>\n",
       "      <td>1615991</td>\n",
       "      <td>2095678</td>\n",
       "      <td>473325</td>\n",
       "      <td>485055</td>\n",
       "      <td>910588</td>\n",
       "      <td>1696611</td>\n",
       "    </tr>\n",
       "    <tr>\n",
       "      <td>1</td>\n",
       "      <td>178545</td>\n",
       "      <td>541961</td>\n",
       "      <td>285756</td>\n",
       "      <td>1982437</td>\n",
       "      <td>1434740</td>\n",
       "      <td>1484233</td>\n",
       "      <td>605616</td>\n",
       "      <td>1468462</td>\n",
       "      <td>1879660</td>\n",
       "      <td>229369</td>\n",
       "    </tr>\n",
       "    <tr>\n",
       "      <td>2</td>\n",
       "      <td>182725</td>\n",
       "      <td>1748343</td>\n",
       "      <td>303917</td>\n",
       "      <td>1649564</td>\n",
       "      <td>-1</td>\n",
       "      <td>-1</td>\n",
       "      <td>-1</td>\n",
       "      <td>-1</td>\n",
       "      <td>-1</td>\n",
       "      <td>-1</td>\n",
       "    </tr>\n",
       "    <tr>\n",
       "      <td>3</td>\n",
       "      <td>1828725</td>\n",
       "      <td>59942</td>\n",
       "      <td>-1</td>\n",
       "      <td>-1</td>\n",
       "      <td>-1</td>\n",
       "      <td>-1</td>\n",
       "      <td>-1</td>\n",
       "      <td>-1</td>\n",
       "      <td>-1</td>\n",
       "      <td>-1</td>\n",
       "    </tr>\n",
       "    <tr>\n",
       "      <td>4</td>\n",
       "      <td>1361154</td>\n",
       "      <td>725371</td>\n",
       "      <td>1748830</td>\n",
       "      <td>849156</td>\n",
       "      <td>1127740</td>\n",
       "      <td>87559</td>\n",
       "      <td>817689</td>\n",
       "      <td>1839144</td>\n",
       "      <td>1647194</td>\n",
       "      <td>1847644</td>\n",
       "    </tr>\n",
       "    <tr>\n",
       "      <td>...</td>\n",
       "      <td>...</td>\n",
       "      <td>...</td>\n",
       "      <td>...</td>\n",
       "      <td>...</td>\n",
       "      <td>...</td>\n",
       "      <td>...</td>\n",
       "      <td>...</td>\n",
       "      <td>...</td>\n",
       "      <td>...</td>\n",
       "      <td>...</td>\n",
       "    </tr>\n",
       "    <tr>\n",
       "      <td>95</td>\n",
       "      <td>2032612</td>\n",
       "      <td>777316</td>\n",
       "      <td>768694</td>\n",
       "      <td>875255</td>\n",
       "      <td>1281524</td>\n",
       "      <td>856245</td>\n",
       "      <td>1661323</td>\n",
       "      <td>1120200</td>\n",
       "      <td>268262</td>\n",
       "      <td>577128</td>\n",
       "    </tr>\n",
       "    <tr>\n",
       "      <td>96</td>\n",
       "      <td>14022</td>\n",
       "      <td>1446348</td>\n",
       "      <td>839947</td>\n",
       "      <td>1589173</td>\n",
       "      <td>1860454</td>\n",
       "      <td>830338</td>\n",
       "      <td>338319</td>\n",
       "      <td>1990398</td>\n",
       "      <td>1984943</td>\n",
       "      <td>1226703</td>\n",
       "    </tr>\n",
       "    <tr>\n",
       "      <td>97</td>\n",
       "      <td>-1</td>\n",
       "      <td>-1</td>\n",
       "      <td>-1</td>\n",
       "      <td>-1</td>\n",
       "      <td>-1</td>\n",
       "      <td>-1</td>\n",
       "      <td>-1</td>\n",
       "      <td>-1</td>\n",
       "      <td>-1</td>\n",
       "      <td>-1</td>\n",
       "    </tr>\n",
       "    <tr>\n",
       "      <td>98</td>\n",
       "      <td>-1</td>\n",
       "      <td>-1</td>\n",
       "      <td>-1</td>\n",
       "      <td>-1</td>\n",
       "      <td>-1</td>\n",
       "      <td>-1</td>\n",
       "      <td>-1</td>\n",
       "      <td>-1</td>\n",
       "      <td>-1</td>\n",
       "      <td>-1</td>\n",
       "    </tr>\n",
       "    <tr>\n",
       "      <td>99</td>\n",
       "      <td>-1</td>\n",
       "      <td>-1</td>\n",
       "      <td>-1</td>\n",
       "      <td>-1</td>\n",
       "      <td>-1</td>\n",
       "      <td>-1</td>\n",
       "      <td>-1</td>\n",
       "      <td>-1</td>\n",
       "      <td>-1</td>\n",
       "      <td>-1</td>\n",
       "    </tr>\n",
       "  </tbody>\n",
       "</table>\n",
       "<p>100 rows × 10 columns</p>\n",
       "</div>"
      ],
      "text/plain": [
       "          0        1        2        3        4        5        6        7  \\\n",
       "0   1748830  1154325   652718   400496  1615991  2095678   473325   485055   \n",
       "1    178545   541961   285756  1982437  1434740  1484233   605616  1468462   \n",
       "2    182725  1748343   303917  1649564       -1       -1       -1       -1   \n",
       "3   1828725    59942       -1       -1       -1       -1       -1       -1   \n",
       "4   1361154   725371  1748830   849156  1127740    87559   817689  1839144   \n",
       "..      ...      ...      ...      ...      ...      ...      ...      ...   \n",
       "95  2032612   777316   768694   875255  1281524   856245  1661323  1120200   \n",
       "96    14022  1446348   839947  1589173  1860454   830338   338319  1990398   \n",
       "97       -1       -1       -1       -1       -1       -1       -1       -1   \n",
       "98       -1       -1       -1       -1       -1       -1       -1       -1   \n",
       "99       -1       -1       -1       -1       -1       -1       -1       -1   \n",
       "\n",
       "          8        9  \n",
       "0    910588  1696611  \n",
       "1   1879660   229369  \n",
       "2        -1       -1  \n",
       "3        -1       -1  \n",
       "4   1647194  1847644  \n",
       "..      ...      ...  \n",
       "95   268262   577128  \n",
       "96  1984943  1226703  \n",
       "97       -1       -1  \n",
       "98       -1       -1  \n",
       "99       -1       -1  \n",
       "\n",
       "[100 rows x 10 columns]"
      ]
     },
     "execution_count": 32,
     "metadata": {},
     "output_type": "execute_result"
    }
   ],
   "source": [
    "DIM_VC = pd.DataFrame(dim_vc, columns=['pred'+str(i) for i in range(10)])\n",
    "DIM_VC.to_csv('dim_vc.csv', index=False, sep=';')"
   ]
  },
  {
   "cell_type": "code",
   "execution_count": 58,
   "metadata": {},
   "outputs": [
    {
     "data": {
      "text/plain": [
       "{'dim_scat_11': array([[-1, -1, -1, ..., -1, -1, -1],\n",
       "        [-1, -1, -1, ..., -1, -1, -1],\n",
       "        [-1, -1, -1, ..., -1, -1, -1],\n",
       "        ...,\n",
       "        [-1, -1, -1, ..., -1, -1, -1],\n",
       "        [-1, -1, -1, ..., -1, -1, -1],\n",
       "        [-1, -1, -1, ..., -1, -1, -1]]),\n",
       " 'dim_scat_12': array([[-1, -1, -1, ..., -1, -1, -1],\n",
       "        [-1, -1, -1, ..., -1, -1, -1],\n",
       "        [-1, -1, -1, ..., -1, -1, -1],\n",
       "        ...,\n",
       "        [-1, -1, -1, ..., -1, -1, -1],\n",
       "        [-1, -1, -1, ..., -1, -1, -1],\n",
       "        [-1, -1, -1, ..., -1, -1, -1]]),\n",
       " 'dim_scat_13': array([[-1, -1, -1, ..., -1, -1, -1],\n",
       "        [-1, -1, -1, ..., -1, -1, -1],\n",
       "        [-1, -1, -1, ..., -1, -1, -1],\n",
       "        ...,\n",
       "        [-1, -1, -1, ..., -1, -1, -1],\n",
       "        [-1, -1, -1, ..., -1, -1, -1],\n",
       "        [-1, -1, -1, ..., -1, -1, -1]]),\n",
       " 'dim_scat_21': array([[-1, -1, -1, ..., -1, -1, -1],\n",
       "        [-1, -1, -1, ..., -1, -1, -1],\n",
       "        [-1, -1, -1, ..., -1, -1, -1],\n",
       "        ...,\n",
       "        [-1, -1, -1, ..., -1, -1, -1],\n",
       "        [-1, -1, -1, ..., -1, -1, -1],\n",
       "        [-1, -1, -1, ..., -1, -1, -1]]),\n",
       " 'dim_scat_22': array([[-1, -1, -1, ..., -1, -1, -1],\n",
       "        [-1, -1, -1, ..., -1, -1, -1],\n",
       "        [-1, -1, -1, ..., -1, -1, -1],\n",
       "        ...,\n",
       "        [-1, -1, -1, ..., -1, -1, -1],\n",
       "        [-1, -1, -1, ..., -1, -1, -1],\n",
       "        [-1, -1, -1, ..., -1, -1, -1]]),\n",
       " 'dim_scat_23': array([[-1, -1, -1, ..., -1, -1, -1],\n",
       "        [-1, -1, -1, ..., -1, -1, -1],\n",
       "        [-1, -1, -1, ..., -1, -1, -1],\n",
       "        ...,\n",
       "        [-1, -1, -1, ..., -1, -1, -1],\n",
       "        [-1, -1, -1, ..., -1, -1, -1],\n",
       "        [-1, -1, -1, ..., -1, -1, -1]]),\n",
       " 'dim_scat_31': array([[-1, -1, -1, ..., -1, -1, -1],\n",
       "        [-1, -1, -1, ..., -1, -1, -1],\n",
       "        [-1, -1, -1, ..., -1, -1, -1],\n",
       "        ...,\n",
       "        [-1, -1, -1, ..., -1, -1, -1],\n",
       "        [-1, -1, -1, ..., -1, -1, -1],\n",
       "        [-1, -1, -1, ..., -1, -1, -1]]),\n",
       " 'dim_scat_32': array([[-1, -1, -1, ..., -1, -1, -1],\n",
       "        [-1, -1, -1, ..., -1, -1, -1],\n",
       "        [-1, -1, -1, ..., -1, -1, -1],\n",
       "        ...,\n",
       "        [-1, -1, -1, ..., -1, -1, -1],\n",
       "        [-1, -1, -1, ..., -1, -1, -1],\n",
       "        [-1, -1, -1, ..., -1, -1, -1]]),\n",
       " 'dim_scat_33': array([[-1, -1, -1, ..., -1, -1, -1],\n",
       "        [-1, -1, -1, ..., -1, -1, -1],\n",
       "        [-1, -1, -1, ..., -1, -1, -1],\n",
       "        ...,\n",
       "        [-1, -1, -1, ..., -1, -1, -1],\n",
       "        [-1, -1, -1, ..., -1, -1, -1],\n",
       "        [-1, -1, -1, ..., -1, -1, -1]])}"
      ]
     },
     "execution_count": 58,
     "metadata": {},
     "output_type": "execute_result"
    }
   ],
   "source": [
    "pred"
   ]
  },
  {
   "cell_type": "code",
   "execution_count": 57,
   "metadata": {},
   "outputs": [],
   "source": [
    "PRED = {}\n",
    "pred = {}\n",
    "K = 10\n",
    "\n",
    "for l in product(range(1,4), range(1,4)):\n",
    "    name = 'dim_scat_{}{}'.format(l[0],l[1])\n",
    "    pred[name] = np.full([A.size, 10], -1)\n",
    "    \n"
   ]
  }
 ],
 "metadata": {
  "kernelspec": {
   "display_name": "Python 3",
   "language": "python",
   "name": "python3"
  },
  "language_info": {
   "codemirror_mode": {
    "name": "ipython",
    "version": 3
   },
   "file_extension": ".py",
   "mimetype": "text/x-python",
   "name": "python",
   "nbconvert_exporter": "python",
   "pygments_lexer": "ipython3",
   "version": "3.7.4"
  }
 },
 "nbformat": 4,
 "nbformat_minor": 2
}
